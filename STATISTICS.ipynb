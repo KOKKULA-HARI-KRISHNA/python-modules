{
 "cells": [
  {
   "cell_type": "code",
   "execution_count": 9,
   "metadata": {},
   "outputs": [
    {
     "data": {
      "text/plain": [
       "30.203000000000003"
      ]
     },
     "execution_count": 9,
     "metadata": {},
     "output_type": "execute_result"
    }
   ],
   "source": [
    "import numpy as np\n",
    "a = [21.2,21.1,98,25,22.8,22.1,20.8,24.7,24.33,22]\n",
    "np.mean(a)"
   ]
  },
  {
   "cell_type": "code",
   "execution_count": 10,
   "metadata": {},
   "outputs": [
    {
     "data": {
      "text/plain": [
       "22.450000000000003"
      ]
     },
     "execution_count": 10,
     "metadata": {},
     "output_type": "execute_result"
    }
   ],
   "source": [
    "np.median(a)"
   ]
  },
  {
   "cell_type": "code",
   "execution_count": 18,
   "metadata": {},
   "outputs": [],
   "source": [
    "import pandas as pd\n",
    "a = pd.Series([1,1,1,2,2,3,3,])"
   ]
  },
  {
   "cell_type": "code",
   "execution_count": 19,
   "metadata": {},
   "outputs": [
    {
     "data": {
      "text/plain": [
       "0    1\n",
       "dtype: int64"
      ]
     },
     "execution_count": 19,
     "metadata": {},
     "output_type": "execute_result"
    }
   ],
   "source": [
    "a.mode()"
   ]
  },
  {
   "cell_type": "code",
   "execution_count": 20,
   "metadata": {},
   "outputs": [
    {
     "data": {
      "text/plain": [
       "1.8571428571428572"
      ]
     },
     "execution_count": 20,
     "metadata": {},
     "output_type": "execute_result"
    }
   ],
   "source": [
    "a.mean()"
   ]
  },
  {
   "cell_type": "code",
   "execution_count": 21,
   "metadata": {},
   "outputs": [
    {
     "data": {
      "text/plain": [
       "2.0"
      ]
     },
     "execution_count": 21,
     "metadata": {},
     "output_type": "execute_result"
    }
   ],
   "source": [
    "a.median()"
   ]
  },
  {
   "cell_type": "code",
   "execution_count": 22,
   "metadata": {},
   "outputs": [],
   "source": [
    "d = pd.Series([212,121,398,245,228,275,208,212,293,275,190,514,275,322,312])"
   ]
  },
  {
   "cell_type": "code",
   "execution_count": 31,
   "metadata": {},
   "outputs": [
    {
     "data": {
      "text/plain": [
       "275.0"
      ]
     },
     "execution_count": 31,
     "metadata": {},
     "output_type": "execute_result"
    }
   ],
   "source": [
    "d.quantile(0.50)"
   ]
  },
  {
   "cell_type": "code",
   "execution_count": 32,
   "metadata": {},
   "outputs": [
    {
     "data": {
      "text/plain": [
       "115.34228100000003"
      ]
     },
     "execution_count": 32,
     "metadata": {},
     "output_type": "execute_result"
    }
   ],
   "source": [
    "s = [41.2,21.6,58,25,32.8,22.1,30.8,24.7,34.33,23]\n",
    "np.var(s)"
   ]
  },
  {
   "cell_type": "code",
   "execution_count": 33,
   "metadata": {},
   "outputs": [
    {
     "data": {
      "text/plain": [
       "10.739752371446933"
      ]
     },
     "execution_count": 33,
     "metadata": {},
     "output_type": "execute_result"
    }
   ],
   "source": [
    "np.std(s)"
   ]
  },
  {
   "cell_type": "code",
   "execution_count": 1,
   "metadata": {},
   "outputs": [],
   "source": [
    "import numpy as np\n",
    "import pandas as pd"
   ]
  },
  {
   "cell_type": "code",
   "execution_count": 13,
   "metadata": {},
   "outputs": [],
   "source": [
    "a = pd.Series([25, 67, 48, 53, 18, 39, 44])"
   ]
  },
  {
   "cell_type": "code",
   "execution_count": 14,
   "metadata": {},
   "outputs": [
    {
     "data": {
      "text/plain": [
       "49"
      ]
     },
     "execution_count": 14,
     "metadata": {},
     "output_type": "execute_result"
    }
   ],
   "source": [
    "max(a) - min(a)"
   ]
  },
  {
   "cell_type": "code",
   "execution_count": 10,
   "metadata": {},
   "outputs": [
    {
     "data": {
      "text/plain": [
       "41.0"
      ]
     },
     "execution_count": 10,
     "metadata": {},
     "output_type": "execute_result"
    }
   ],
   "source": [
    "a.mean()"
   ]
  },
  {
   "cell_type": "code",
   "execution_count": 11,
   "metadata": {},
   "outputs": [
    {
     "data": {
      "text/plain": [
       "40.5"
      ]
     },
     "execution_count": 11,
     "metadata": {},
     "output_type": "execute_result"
    }
   ],
   "source": [
    "a.median()"
   ]
  },
  {
   "cell_type": "code",
   "execution_count": 12,
   "metadata": {},
   "outputs": [
    {
     "data": {
      "text/plain": [
       "0    41\n",
       "dtype: int64"
      ]
     },
     "execution_count": 12,
     "metadata": {},
     "output_type": "execute_result"
    }
   ],
   "source": [
    "a.mode()"
   ]
  },
  {
   "cell_type": "code",
   "execution_count": 16,
   "metadata": {},
   "outputs": [
    {
     "data": {
      "text/plain": [
       "3.0550504633038935"
      ]
     },
     "execution_count": 16,
     "metadata": {},
     "output_type": "execute_result"
    }
   ],
   "source": [
    "a = pd.Series([13, 8, 4, 9, 7, 12, 10])\n",
    "a.std()"
   ]
  },
  {
   "cell_type": "code",
   "execution_count": 29,
   "metadata": {},
   "outputs": [
    {
     "data": {
      "text/plain": [
       "-0.18365164213335738"
      ]
     },
     "execution_count": 29,
     "metadata": {},
     "output_type": "execute_result"
    }
   ],
   "source": [
    "a = pd.Series([65,75,74,73,95,76,62,100,101,102,103,107,157,160,191,192])\n",
    "a.kurt()"
   ]
  },
  {
   "cell_type": "code",
   "execution_count": 33,
   "metadata": {},
   "outputs": [],
   "source": [
    "d = pd.DataFrame([65,75,74,73,95,76,62,100])"
   ]
  },
  {
   "cell_type": "code",
   "execution_count": 34,
   "metadata": {},
   "outputs": [
    {
     "data": {
      "text/plain": [
       "0   -0.246357\n",
       "dtype: float64"
      ]
     },
     "execution_count": 34,
     "metadata": {},
     "output_type": "execute_result"
    }
   ],
   "source": [
    "d.kurt()"
   ]
  },
  {
   "cell_type": "code",
   "execution_count": 35,
   "metadata": {},
   "outputs": [
    {
     "data": {
      "text/plain": [
       "0    0.871657\n",
       "dtype: float64"
      ]
     },
     "execution_count": 35,
     "metadata": {},
     "output_type": "execute_result"
    }
   ],
   "source": [
    "d.skew()"
   ]
  },
  {
   "cell_type": "code",
   "execution_count": 42,
   "metadata": {},
   "outputs": [],
   "source": [
    "a = pd.Series(range(10,20))\n",
    "b = pd.Series([2,1,4,5,8,12,18,25,96,48])"
   ]
  },
  {
   "cell_type": "code",
   "execution_count": 43,
   "metadata": {},
   "outputs": [
    {
     "data": {
      "text/plain": [
       "0.7586402890911867"
      ]
     },
     "execution_count": 43,
     "metadata": {},
     "output_type": "execute_result"
    }
   ],
   "source": [
    "a.corr(b)"
   ]
  },
  {
   "cell_type": "code",
   "execution_count": 44,
   "metadata": {},
   "outputs": [
    {
     "data": {
      "text/plain": [
       "0.7586402890911869"
      ]
     },
     "execution_count": 44,
     "metadata": {},
     "output_type": "execute_result"
    }
   ],
   "source": [
    "b.corr(a)"
   ]
  },
  {
   "cell_type": "code",
   "execution_count": 48,
   "metadata": {},
   "outputs": [
    {
     "data": {
      "text/plain": [
       "68.16666666666666"
      ]
     },
     "execution_count": 48,
     "metadata": {},
     "output_type": "execute_result"
    }
   ],
   "source": [
    "b.cov(a)"
   ]
  },
  {
   "cell_type": "code",
   "execution_count": 49,
   "metadata": {},
   "outputs": [
    {
     "data": {
      "text/plain": [
       "68.16666666666666"
      ]
     },
     "execution_count": 49,
     "metadata": {},
     "output_type": "execute_result"
    }
   ],
   "source": [
    "a.cov(b)"
   ]
  },
  {
   "cell_type": "code",
   "execution_count": 46,
   "metadata": {},
   "outputs": [
    {
     "data": {
      "text/plain": [
       "0.9757575757575757"
      ]
     },
     "execution_count": 46,
     "metadata": {},
     "output_type": "execute_result"
    }
   ],
   "source": [
    "a.corr(b, method = 'spearman')"
   ]
  },
  {
   "cell_type": "code",
   "execution_count": null,
   "metadata": {},
   "outputs": [],
   "source": []
  },
  {
   "cell_type": "code",
   "execution_count": 47,
   "metadata": {},
   "outputs": [
    {
     "data": {
      "text/plain": [
       "0.911111111111111"
      ]
     },
     "execution_count": 47,
     "metadata": {},
     "output_type": "execute_result"
    }
   ],
   "source": [
    "a.corr(b, method = 'kendall')"
   ]
  },
  {
   "cell_type": "code",
   "execution_count": 1,
   "metadata": {},
   "outputs": [],
   "source": [
    "cards = 52\n",
    "jacks = 4\n",
    "j_p = jacks/cards"
   ]
  },
  {
   "cell_type": "code",
   "execution_count": 3,
   "metadata": {},
   "outputs": [
    {
     "data": {
      "text/plain": [
       "8.0"
      ]
     },
     "execution_count": 3,
     "metadata": {},
     "output_type": "execute_result"
    }
   ],
   "source": [
    "round(j_p,2)*100"
   ]
  },
  {
   "cell_type": "code",
   "execution_count": 4,
   "metadata": {},
   "outputs": [
    {
     "data": {
      "text/plain": [
       "0.07692307692307693"
      ]
     },
     "execution_count": 4,
     "metadata": {},
     "output_type": "execute_result"
    }
   ],
   "source": [
    "j_p"
   ]
  },
  {
   "cell_type": "code",
   "execution_count": 8,
   "metadata": {},
   "outputs": [],
   "source": [
    "card = 52\n",
    "card_drawn = 1\n",
    "card = card - card_drawn"
   ]
  },
  {
   "cell_type": "code",
   "execution_count": 11,
   "metadata": {},
   "outputs": [],
   "source": [
    "def event_prob(event,total):\n",
    "    prob = (event/total)* 100\n",
    "    return round(prob,1)"
   ]
  },
  {
   "cell_type": "code",
   "execution_count": 12,
   "metadata": {},
   "outputs": [
    {
     "data": {
      "text/plain": [
       "7.7"
      ]
     },
     "execution_count": 12,
     "metadata": {},
     "output_type": "execute_result"
    }
   ],
   "source": [
    "event_prob(4,52)"
   ]
  },
  {
   "cell_type": "code",
   "execution_count": 14,
   "metadata": {},
   "outputs": [
    {
     "data": {
      "text/plain": [
       "5.9"
      ]
     },
     "execution_count": 14,
     "metadata": {},
     "output_type": "execute_result"
    }
   ],
   "source": [
    "event_prob(3,51)"
   ]
  },
  {
   "cell_type": "code",
   "execution_count": 15,
   "metadata": {},
   "outputs": [
    {
     "data": {
      "text/plain": [
       "46.2"
      ]
     },
     "execution_count": 15,
     "metadata": {},
     "output_type": "execute_result"
    }
   ],
   "source": [
    "event_prob(12,52)+event_prob(12,52)"
   ]
  },
  {
   "cell_type": "code",
   "execution_count": 16,
   "metadata": {},
   "outputs": [
    {
     "data": {
      "text/plain": [
       "23.1"
      ]
     },
     "execution_count": 16,
     "metadata": {},
     "output_type": "execute_result"
    }
   ],
   "source": [
    "event_prob(4,52)+event_prob(4,52)+event_prob(4,52)"
   ]
  },
  {
   "cell_type": "code",
   "execution_count": null,
   "metadata": {},
   "outputs": [],
   "source": []
  },
  {
   "cell_type": "code",
   "execution_count": 1,
   "metadata": {},
   "outputs": [],
   "source": [
    "import pandas as pd\n",
    "import numpy as np"
   ]
  },
  {
   "cell_type": "code",
   "execution_count": 21,
   "metadata": {},
   "outputs": [],
   "source": [
    "data = pd.DataFrame([5461.282051,6221.076923,6697.076923,6078.897436,6066.846154,6388.615385,6573.769231,5464.025641,6206.461538,5871.820513,5564.179487,5964.358974,5545.410256,6254.717949,5407.512821,6231.974359,5941.25641,5761.615385,6097.974359,6373.923077,6325.102564,5630.25641,5828.769231,5516.025641,6686.25641,5552.487179,6337,6627.051282,6158.846154,5451.128205,6131.794872,5585.333333,6371.153846,5952.435897,5928.820513,6601.846154,6720.641026,6648.282051,6975.025641,5454.333333])"
   ]
  },
  {
   "cell_type": "code",
   "execution_count": 26,
   "metadata": {},
   "outputs": [
    {
     "data": {
      "text/plain": [
       "431.80837763900274"
      ]
     },
     "execution_count": 26,
     "metadata": {},
     "output_type": "execute_result"
    }
   ],
   "source": [
    "a = np.array([5461.282051,6221.076923,6697.076923,6078.897436,6066.846154,6388.615385,6573.769231,5464.025641,6206.461538,5871.820513,5564.179487,5964.358974,5545.410256,6254.717949,5407.512821,6231.974359,5941.25641,5761.615385,6097.974359,6373.923077,6325.102564,5630.25641,5828.769231,5516.025641,6686.25641,5552.487179,6337,6627.051282,6158.846154,5451.128205,6131.794872,5585.333333,6371.153846,5952.435897,5928.820513,6601.846154,6720.641026,6648.282051,6975.025641,5454.333333])\n",
    "np.std(a)"
   ]
  },
  {
   "cell_type": "code",
   "execution_count": 23,
   "metadata": {},
   "outputs": [
    {
     "ename": "AttributeError",
     "evalue": "module 'pandas' has no attribute 'stdiv'",
     "output_type": "error",
     "traceback": [
      "\u001b[1;31m---------------------------------------------------------------------------\u001b[0m",
      "\u001b[1;31mAttributeError\u001b[0m                            Traceback (most recent call last)",
      "\u001b[1;32m<ipython-input-23-fa6d67fcf3a4>\u001b[0m in \u001b[0;36m<module>\u001b[1;34m\u001b[0m\n\u001b[1;32m----> 1\u001b[1;33m \u001b[0mpd\u001b[0m\u001b[1;33m.\u001b[0m\u001b[0mstdiv\u001b[0m\u001b[1;33m(\u001b[0m\u001b[0mdata\u001b[0m\u001b[1;33m)\u001b[0m\u001b[1;33m\u001b[0m\u001b[1;33m\u001b[0m\u001b[0m\n\u001b[0m",
      "\u001b[1;32m~\\anaconda3\\lib\\site-packages\\pandas\\__init__.py\u001b[0m in \u001b[0;36m__getattr__\u001b[1;34m(name)\u001b[0m\n\u001b[0;32m    261\u001b[0m             \u001b[1;32mreturn\u001b[0m \u001b[0m_SparseArray\u001b[0m\u001b[1;33m\u001b[0m\u001b[1;33m\u001b[0m\u001b[0m\n\u001b[0;32m    262\u001b[0m \u001b[1;33m\u001b[0m\u001b[0m\n\u001b[1;32m--> 263\u001b[1;33m         \u001b[1;32mraise\u001b[0m \u001b[0mAttributeError\u001b[0m\u001b[1;33m(\u001b[0m\u001b[1;34mf\"module 'pandas' has no attribute '{name}'\"\u001b[0m\u001b[1;33m)\u001b[0m\u001b[1;33m\u001b[0m\u001b[1;33m\u001b[0m\u001b[0m\n\u001b[0m\u001b[0;32m    264\u001b[0m \u001b[1;33m\u001b[0m\u001b[0m\n\u001b[0;32m    265\u001b[0m \u001b[1;33m\u001b[0m\u001b[0m\n",
      "\u001b[1;31mAttributeError\u001b[0m: module 'pandas' has no attribute 'stdiv'"
     ]
    }
   ],
   "source": [
    "pd.stdiv(data)"
   ]
  },
  {
   "cell_type": "code",
   "execution_count": 22,
   "metadata": {},
   "outputs": [
    {
     "data": {
      "text/plain": [
       "<matplotlib.axes._subplots.AxesSubplot at 0x2ae8888ab50>"
      ]
     },
     "execution_count": 22,
     "metadata": {},
     "output_type": "execute_result"
    },
    {
     "data": {
      "image/png": "[encoded data removed]",
      "text/plain": [
       "<Figure size 432x288 with 1 Axes>"
      ]
     },
     "metadata": {
      "needs_background": "light"
     },
     "output_type": "display_data"
    }
   ],
   "source": [
    "import seaborn  as  sns\n",
    "sns.distplot(data, bins = 10)"
   ]
  },
  {
   "cell_type": "code",
   "execution_count": 12,
   "metadata": {},
   "outputs": [
    {
     "ename": "AttributeError",
     "evalue": "module 'matplotlib.pyplot' has no attribute 'dist'",
     "output_type": "error",
     "traceback": [
      "\u001b[1;31m---------------------------------------------------------------------------\u001b[0m",
      "\u001b[1;31mAttributeError\u001b[0m                            Traceback (most recent call last)",
      "\u001b[1;32m<ipython-input-12-bc71cc8be577>\u001b[0m in \u001b[0;36m<module>\u001b[1;34m\u001b[0m\n\u001b[0;32m      1\u001b[0m \u001b[1;32mimport\u001b[0m \u001b[0mmatplotlib\u001b[0m\u001b[1;33m.\u001b[0m\u001b[0mpyplot\u001b[0m \u001b[1;32mas\u001b[0m \u001b[0mplt\u001b[0m\u001b[1;33m\u001b[0m\u001b[1;33m\u001b[0m\u001b[0m\n\u001b[1;32m----> 2\u001b[1;33m \u001b[0mplt\u001b[0m\u001b[1;33m.\u001b[0m\u001b[0mdist\u001b[0m\u001b[1;33m(\u001b[0m\u001b[0mdata\u001b[0m\u001b[1;33m,\u001b[0m \u001b[0mbins\u001b[0m \u001b[1;33m=\u001b[0m \u001b[1;36m5\u001b[0m\u001b[1;33m,\u001b[0m \u001b[0mrwidth\u001b[0m \u001b[1;33m=\u001b[0m \u001b[1;36m0.95\u001b[0m\u001b[1;33m)\u001b[0m\u001b[1;33m\u001b[0m\u001b[1;33m\u001b[0m\u001b[0m\n\u001b[0m\u001b[0;32m      3\u001b[0m \u001b[0mplt\u001b[0m\u001b[1;33m.\u001b[0m\u001b[0mshow\u001b[0m\u001b[1;33m(\u001b[0m\u001b[1;33m)\u001b[0m\u001b[1;33m\u001b[0m\u001b[1;33m\u001b[0m\u001b[0m\n",
      "\u001b[1;31mAttributeError\u001b[0m: module 'matplotlib.pyplot' has no attribute 'dist'"
     ]
    }
   ],
   "source": [
    "import matplotlib.pyplot as plt\n",
    "plt.dist(data, bins = 5, rwidth = 0.95)\n",
    "plt.show()"
   ]
  },
  {
   "cell_type": "code",
   "execution_count": 17,
   "metadata": {},
   "outputs": [
    {
     "data": {
      "text/plain": [
       "<matplotlib.axes._subplots.AxesSubplot at 0x2ae86f31cd0>"
      ]
     },
     "execution_count": 17,
     "metadata": {},
     "output_type": "execute_result"
    },
    {
     "data": {
      "image/png": "[encoded data removed]",
      "text/plain": [
       "<Figure size 432x288 with 1 Axes>"
      ]
     },
     "metadata": {
      "needs_background": "light"
     },
     "output_type": "display_data"
    }
   ],
   "source": [
    "import seaborn  as  sns\n",
    "sns.distplot(l, bins = 10)"
   ]
  },
  {
   "cell_type": "code",
   "execution_count": 19,
   "metadata": {},
   "outputs": [
    {
     "ename": "SyntaxError",
     "evalue": "invalid syntax (<ipython-input-19-61ef3a4a6142>, line 1)",
     "output_type": "error",
     "traceback": [
      "\u001b[1;36m  File \u001b[1;32m\"<ipython-input-19-61ef3a4a6142>\"\u001b[1;36m, line \u001b[1;32m1\u001b[0m\n\u001b[1;33m    l=pd.Series([7543\t8581\t9397\t3272\t10040\t5255\t1921\t2689\t6312\t4511\t7164\t2431\t9173\t8864\t2064\t1734\t8727\t5620\t10760\t6883\t2569\t6076\t4334\t3401\t8967\t8511\t2436\t7849\t10534\t5837\t8959\t6656\t5209\t9986\t8225\t8534\t3935\t10062\t4859\t4938\u001b[0m\n\u001b[1;37m                     \t^\u001b[0m\n\u001b[1;31mSyntaxError\u001b[0m\u001b[1;31m:\u001b[0m invalid syntax\n"
     ]
    }
   ],
   "source": [
    "l=pd.Series([7543\t8581\t9397\t3272\t10040\t5255\t1921\t2689\t6312\t4511\t7164\t2431\t9173\t8864\t2064\t1734\t8727\t5620\t10760\t6883\t2569\t6076\t4334\t3401\t8967\t8511\t2436\t7849\t10534\t5837\t8959\t6656\t5209\t9986\t8225\t8534\t3935\t10062\t4859\t4938\n",
    "6466\t10571\t3899\t4856\t8175\t2179\t10955\t6796\t0\t5552\t9596\t7634\t6175\t8938\t1900\t9299\t4072\t4473\t5151\t2345\t4015\t10552\t8319\t7661\t6894\t5862\t1705\t6607\t1200\t9614\t4630\t10319\t2516\t7516\t8929\t2574\t7868\t8190\t5462\t2623\n",
    "1843\t9386\t3763\t3605\t8272\t10550\t10703\t7867\t5851\t8831\t1874\t7977\t3390\t8959\t2040\t10419\t5920\t7523\t3713\t4231\t7309\t3083\t2642\t5260\t3913\t4091\t4612\t3042\t8516\t4428\t5532\t4279\t6526\t5052\t4239\t7142\t4019\t7568\t6034\t4397\n",
    "2445\t4088\t2290\t2322\t4476\t10637\t7983\t8688\t9226\t1721\t10904\t3410\t7518\t1868\t9472\t7880\t5727\t8079\t5172\t6466\t3294\t9698\t5760\t4251\t8419\t6134\t1124\t1205\t9773\t5258\t9221\t4916\t10703\t1205\t6634\t6731\t10742\t6530\t5669\t10570\n",
    "9778\t2683\t1383\t6015\t9052\t8750\t10698\t10182\t10657\t3498\t6156\t8013\t6902\t8236\t10587\t7068\t5031\t1644\t8984\t6812\t8270\t1917\t3675\t2257\t6512\t1773\t10824\t6083\t3844\t2825\t2104\t3897\t8047\t6146\t7654\t4790\t8906\t3728\t6888\t1732\n",
    "10858\t5910\t5135\t9049\t2504\t10689\t2961\t9347\t5178\t5193\t8976\t4192\t4954\t9111\t7738\t2659\t8983\t1762\t7374\t8457\t7237\t9125\t1431\t4504\t1532\t8789\t4065\t7046\t2934\t6324\t2208\t3226\t5500\t8808\t1678\t9503\t7141\t2734\t10727\t6071\n",
    "1140\t1229\t8493\t7142\t3068\t8947\t3997\t8523\t10234\t3434\t1497\t3099\t10922\t10810\t7568\t7841\t4187\t5017\t9105\t10260\t10011\t3250\t2358\t8451\t2397\t8207\t10997\t2087\t8761\t5923\t10824\t1796\t7257\t9142\t10837\t1790\t8056\t7704\t7294\t4180\n",
    "8347\t3988\t1906\t8270\t1843\t4700\t2508\t1913\t6107\t6482\t3593\t5909\t9636\t10612\t3725\t6319\t3621\t6771\t4432\t10913\t6464\t1928\t1732\t1409\t3872\t2548\t1861\t1708\t4724\t10777\t4480\t2183\t7569\t5327\t10353\t5406\t1749\t1790\t4225\t3588\n",
    "8596\t7352\t9286\t9376\t5180\t1217\t9995\t2899\t6755\t7200\t1892\t8305\t2472\t1402\t4417\t7560\t7064\t10163\t7694\t8482\t9359\t4293\t2224\t10353\t10275\t3119\t7648\t9792\t4917\t1667\t6519\t1658\t8550\t3023\t4687\t7425\t10528\t1621\t8096\t10292\n",
    "4355\t2925\t8367\t3758\t2669\t6913\t4865\t9005\t7187\t3253\t3482\t10298\t6595\t10794\t1598\t2053\t2385\t2147\t5697\t4598\t4925\t1419\t8669\t5758\t9907\t7883\t2262\t4000\t6633\t3099\t3366\t6628\t7789\t10080\t6534\t1877\t2064\t9585\t3325\t2753\n",
    "1957\t7932\t9999\t6823\t5972\t6182\t10334\t7989\t10477\t1237\t1317\t7890\t4453\t3233\t5201\t9448\t2382\t9384\t2114\t6252\t10797\t10662\t9337\t4986\t9801\t3841\t1357\t7054\t1721\t2430\t5610\t1413\t5715\t6271\t6256\t8855\t10333\t9100\t7164\t1777\n",
    "2656\t6925\t9550\t4113\t8185\t10914\t6526\t1256\t10611\t9145\t1240\t1841\t4373\t3337\t4419\t7736\t5864\t5765\t6948\t1946\t1774\t9687\t3773\t3072\t2827\t5534\t5646\t5176\t6831\t2913\t5034\t6479\t5739\t7141\t9527\t10451\t5640\t8342\t6121\t9127\n",
    "9565\t9482\t6965\t5687\t2070\t9103\t5233\t5611\t7350\t5494\t3750\t1803\t9741\t10722\t4354\t5403\t1595\t1749\t7854\t10901\t1194\t7092\t4551\t2646\t10460\t3188\t8986\t4985\t3577\t2952\t1143\t8339\t4000\t8742\t6648\t2047\t6594\t2202\t4056\t3303\n",
    "4230\t9956\t10347\t9767\t4353\t8883\t2330\t6178\t8481\t9083\t5864\t8569\t1610\t9157\t2043\t9975\t9872\t1610\t5714\t5784\t10579\t2868\t8313\t9587\t5557\t7578\t7054\t9724\t7783\t6374\t10499\t4178\t6631\t4764\t5700\t4963\t9601\t10413\t6676\t4365\n",
    "4351\t7448\t1211\t4402\t9461\t4077\t5504\t3831\t2094\t3836\t1525\t2038\t3597\t3307\t2223\t7867\t6359\t10407\t8677\t2033\t6488\t7803\t9413\t6838\t1181\t1864\t3929\t5262\t8325\t5453\t2830\t4224\t1972\t6713\t4192\t2348\t3342\t1665\t5017\t2384\n",
    "4725\t9926\t6400\t7520\t3629\t6713\t8998\t4130\t1975\t5555\t6774\t9211\t3553\t10518\t9601\t2855\t5829\t5174\t8826\t10820\t2546\t3643\t9385\t4176\t1471\t4724\t8632\t3193\t3328\t7251\t2864\t7198\t3085\t3127\t3493\t7546\t8857\t7611\t8789\t6911\n",
    "3069\t7779\t10633\t6927\t9325\t3212\t9806\t3977\t3453\t1755\t8546\t7255\t5857\t1809\t9736\t3041\t3205\t5414\t2836\t4572\t2243\t6266\t8336\t3441\t8749\t4805\t10927\t9703\t7919\t2390\t10720\t4767\t5642\t6988\t3508\t5748\t4618\t8949\t10920\t5347\n",
    "1286\t2506\t2121\t3730\t3465\t8743\t7356\t9029\t1742\t10836\t4881\t8977\t8035\t7122\t4682\t3286\t4672\t2482\t3501\t4210\t8895\t8171\t9480\t8790\t5013\t3640\t8217\t5607\t7576\t8040\t4040\t3956\t7210\t2062\t4875\t10855\t4346\t9700\t4252\t7984\n",
    "6680\t1610\t7095\t6833\t8620\t4844\t10327\t1983\t8932\t10866\t8877\t3952\t4866\t10669\t4706\t6825\t9515\t3526\t7387\t9196\t3903\t1770\t7718\t3571\t7981\t8815\t1638\t9877\t1767\t6836\t10426\t8820\t6380\t9710\t4072\t10291\t2277\t5065\t7693\t10642\n",
    "7872\t2359\t7857\t2946\t4546\t3412\t9296\t2872\t1377\t4733\t2084\t4194\t4302\t5062\t10841\t4615\t4983\t2610\t2564\t4587\t10961\t2617\t9722\t5046\t1969\t5059\t10867\t10570\t8681\t7776\t7932\t10725\t8635\t3115\t7652\t7324\t9755\t7887\t8364\t9573\n",
    "4463\t8911\t1660\t6036\t7402\t10737\t6680\t10642\t2943\t9741\t4674\t9159\t3780\t9253\t3752\t6654\t6899\t8558\t4551\t1231\t8257\t7948\t9313\t1234\t8489\t4376\t10022\t6498\t3792\t2789\t10101\t7737\t1143\t4533\t8560\t10328\t10907\t1833\t5234\t3046\n",
    "10772\t2553\t9243\t8374\t9175\t7454\t4547\t1368\t4815\t5939\t7804\t2349\t1512\t2565\t3533\t1958\t9648\t4591\t9726\t8777\t6732\t2389\t4518\t3581\t9802\t10741\t6748\t4455\t10670\t1690\t4699\t4485\t4230\t1340\t2189\t5531\t5972\t3952\t6405\t4254\n",
    "6387\t8503\t3952\t5939\t8978\t3338\t2250\t3951\t5982\t3711\t7007\t5131\t2808\t7739\t3059\t2455\t5800\t6932\t9202\t6874\t6790\t3133\t5534\t10505\t1410\t2620\t5660\t6381\t7823\t4636\t8431\t2966\t5262\t8339\t1379\t8910\t4468\t10274\t6833\t8289\n",
    "2492\t7463\t4204\t3175\t3616\t8776\t5372\t6877\t4390\t9739\t10851\t5682\t10675\t4824\t10806\t9388\t9825\t10696\t9546\t7426\t5855\t1828\t3902\t2244\t6786\t4828\t2310\t9800\t10863\t7792\t3688\t5042\t2874\t5701\t5864\t10981\t5718\t8955\t5320\t2791\n",
    "5328\t5816\t8680\t3559\t5388\t1695\t2821\t5381\t10864\t4881\t3033\t3360\t8405\t1417\t1220\t5894\t3911\t5029\t10634\t6251\t6223\t2688\t3712\t1811\t7299\t5290\t9497\t8637\t9850\t3750\t7021\t2122\t10897\t5034\t8227\t10496\t4339\t10088\t9982\t8877\n",
    "6096\t5338\t9236\t8105\t5948\t2016\t4975\t2196\t7042\t2146\t4423\t7741\t3126\t3312\t3178\t5836\t5717\t4033\t2318\t2787\t7112\t4780\t3081\t1549\t9248\t4648\t7548\t8816\t7497\t5580\t7543\t4783\t10472\t4892\t9710\t5282\t9518\t8984\t1854\t6823\n",
    "5041\t2256\t6679\t10940\t4529\t4032\t10508\t8496\t7832\t3393\t6511\t5313\t2002\t10168\t9044\t8517\t6858\t5700\t6903\t5695\t3162\t2080\t1198\t8311\t6017\t1415\t4068\t9626\t4409\t2179\t5410\t3091\t10590\t3518\t8629\t6065\t7825\t6635\t7699\t1262\n",
    "6085\t4910\t10487\t1668\t10699\t10287\t9499\t7318\t4499\t10429\t2989\t1437\t1642\t5690\t10250\t6455\t6146\t5448\t8086\t9874\t1890\t3449\t8963\t3639\t10631\t2527\t6586\t10623\t6149\t5835\t10989\t9272\t1670\t5961\t4974\t2046\t3185\t4504\t9121\t5359\n",
    "4521\t4379\t5553\t9057\t10896\t1185\t7038\t5427\t2360\t10504\t9196\t8138\t4680\t7830\t6193\t8157\t8522\t7174\t7753\t7508\t10096\t5736\t1706\t10113\t10403\t3237\t8180\t4134\t5464\t9381\t7436\t4634\t10565\t10361\t6429\t4792\t10210\t1783\t7233\t6532\n",
    "6066\t7140\t9231\t9551\t7822\t2340\t10483\t2831\t2541\t1230\t9534\t8145\t2592\t2344\t1775\t7451\t6020\t6783\t10603\t9270\t3527\t9251\t1618\t6074\t1362\t1828\t6847\t7949\t5188\t1702\t1384\t9403\t6950\t8850\t4114\t2692\t6508\t8158\t10252\t9107\n",
    "4234\t4514\t9026\t10660\t4890\t8195\t5161\t3357\t3848\t10088\t2848\t9802\t6548\t4356\t6810\t8935\t4371\t10953\t2810\t4402\t1484\t7665\t1231\t8472\t8507\t3422\t9121\t6208\t10318\t2131\t3325\t7075\t7126\t5820\t4739\t3729\t6908\t10502\t7829\t3633\n",
    "3751\t7140\t8529\t6484\t9514\t7281\t2288\t7977\t10307\t5393\t8367\t1569\t3056\t5552\t8936\t1733\t1602\t6422\t1111\t10438\t2769\t6554\t10829\t5095\t10410\t7359\t5328\t3950\t5233\t6984\t5844\t4962\t4512\t7473\t5496\t9083\t2567\t8152\t7276\t1788\n",
    "4524\t9078\t7092\t6728\t7867\t6392\t2892\t8482\t1628\t8594\t9945\t8334\t7490\t9688\t3526\t6185\t10183\t3396\t1194\t7437\t5318\t5237\t9690\t4283\t2354\t5265\t10096\t8686\t5566\t4765\t3402\t3427\t3001\t2403\t2924\t4370\t9878\t4205\t10528\t5422\n",
    "4716\t10961\t9752\t8801\t6338\t7689\t2831\t3892\t1968\t8982\t5366\t8373\t10453\t1917\t4456\t9324\t5446\t4195\t1337\t3590\t8565\t9962\t7505\t9669\t6486\t7979\t3902\t9881\t3485\t7090\t10356\t7751\t4776\t3229\t3772\t8792\t3674\t3278\t9336\t7778\n",
    "6733\t7793\t6314\t1234\t4000\t2133\t6563\t4974\t10328\t1876\t2129\t6518\t3178\t5759\t4302\t4644\t4250\t10869\t8497\t1745\t10265\t9510\t8010\t10685\t8009\t9157\t4413\t7599\t1582\t9588\t7080\t7301\t8993\t6055\t7767\t8684\t6508\t5220\t8482\t1450\n",
    "10659\t7553\t4984\t4307\t3616\t10907\t9539\t4203\t8623\t5282\t9245\t8558\t3876\t6211\t4379\t8338\t3690\t7163\t8835\t5874\t9836\t6859\t8823\t2800\t9334\t8830\t6424\t6236\t1200\t9359\t8781\t8848\t10831\t6084\t9246\t2409\t4467\t6899\t5210\t6565\n",
    "4113\t6667\t7648\t10352\t2384\t10059\t9884\t4378\t5236\t3712\t2040\t3986\t7478\t2037\t1158\t5927\t4913\t6176\t3194\t1148\t8799\t1831\t3870\t10364\t9202\t9682\t3766\t1947\t10197\t7341\t10441\t3975\t2530\t4088\t1241\t10538\t9843\t9383\t5826\t2826\n",
    "4038\t2602\t6546\t3165\t1767\t2706\t9347\t2004\t4531\t3460\t3977\t7568\t7946\t4987\t10563\t8533\t9402\t6973\t2591\t7512\t8636\t10881\t8041\t6248\t8011\t8195\t10981\t6588\t5862\t5887\t1687\t8048\t8614\t2781\t2585\t6956\t9756\t9339\t9834\t7665\n",
    "5209\t6409\t6273\t2529\t6873\t6014\t1403\t4578\t10359\t7686\t7072\t4449\t6900\t3755\t5038\t2780\t8513\t2292\t4427\t10996\t8530\t5879\t4606\t2990\t9307\t9183\t10859\t9871\t5703\t5948\t2581\t7249\t8764\t10765\t7686\t9588\t9483\t6693\t6141\t6695\n",
    "])\n"
   ]
  },
  {
   "cell_type": "code",
   "execution_count": 37,
   "metadata": {},
   "outputs": [],
   "source": [
    "population = 6061.284\n",
    "sample = 6066.385\n",
    "Standard = 2878.928\n",
    "Sample_standard_deviation = 437.309\n",
    "import math\n",
    "n = math.sqrt(40)"
   ]
  },
  {
   "cell_type": "code",
   "execution_count": 38,
   "metadata": {},
   "outputs": [],
   "source": [
    "z = (population - sample)/(Standard/n)"
   ]
  },
  {
   "cell_type": "code",
   "execution_count": 39,
   "metadata": {},
   "outputs": [
    {
     "data": {
      "text/plain": [
       "-0.011206100565572115"
      ]
     },
     "execution_count": 39,
     "metadata": {},
     "output_type": "execute_result"
    }
   ],
   "source": [
    "z"
   ]
  },
  {
   "cell_type": "code",
   "execution_count": 1,
   "metadata": {},
   "outputs": [],
   "source": [
    "import pandas as pd\n",
    "import numpy as np\n",
    "d = pd.DataFrame([48.6,38.8,52.6,48,60.2,54.6,42.7,42.1,49.8,57.8,57.9,46.4,52.5,55.5,53.5,54.9,58.8,41.8,58.6,48.7,55,50.2,57,51.2,39.5,58.2,46.8,38,56.6,41,54.8,55.6,58.4,45,42.8,54.8,45.7,44.3,38.4,54])"
   ]
  },
  {
   "cell_type": "code",
   "execution_count": 2,
   "metadata": {},
   "outputs": [
    {
     "data": {
      "text/html": [
       "<div>\n",
       "<style scoped>\n",
       "    .dataframe tbody tr th:only-of-type {\n",
       "        vertical-align: middle;\n",
       "    }\n",
       "\n",
       "    .dataframe tbody tr th {\n",
       "        vertical-align: top;\n",
       "    }\n",
       "\n",
       "    .dataframe thead th {\n",
       "        text-align: right;\n",
       "    }\n",
       "</style>\n",
       "<table border=\"1\" class=\"dataframe\">\n",
       "  <thead>\n",
       "    <tr style=\"text-align: right;\">\n",
       "      <th></th>\n",
       "      <th>0</th>\n",
       "    </tr>\n",
       "  </thead>\n",
       "  <tbody>\n",
       "    <tr>\n",
       "      <th>0</th>\n",
       "      <td>48.6</td>\n",
       "    </tr>\n",
       "    <tr>\n",
       "      <th>1</th>\n",
       "      <td>38.8</td>\n",
       "    </tr>\n",
       "    <tr>\n",
       "      <th>2</th>\n",
       "      <td>52.6</td>\n",
       "    </tr>\n",
       "    <tr>\n",
       "      <th>3</th>\n",
       "      <td>48.0</td>\n",
       "    </tr>\n",
       "    <tr>\n",
       "      <th>4</th>\n",
       "      <td>60.2</td>\n",
       "    </tr>\n",
       "    <tr>\n",
       "      <th>5</th>\n",
       "      <td>54.6</td>\n",
       "    </tr>\n",
       "    <tr>\n",
       "      <th>6</th>\n",
       "      <td>42.7</td>\n",
       "    </tr>\n",
       "    <tr>\n",
       "      <th>7</th>\n",
       "      <td>42.1</td>\n",
       "    </tr>\n",
       "    <tr>\n",
       "      <th>8</th>\n",
       "      <td>49.8</td>\n",
       "    </tr>\n",
       "    <tr>\n",
       "      <th>9</th>\n",
       "      <td>57.8</td>\n",
       "    </tr>\n",
       "    <tr>\n",
       "      <th>10</th>\n",
       "      <td>57.9</td>\n",
       "    </tr>\n",
       "    <tr>\n",
       "      <th>11</th>\n",
       "      <td>46.4</td>\n",
       "    </tr>\n",
       "    <tr>\n",
       "      <th>12</th>\n",
       "      <td>52.5</td>\n",
       "    </tr>\n",
       "    <tr>\n",
       "      <th>13</th>\n",
       "      <td>55.5</td>\n",
       "    </tr>\n",
       "    <tr>\n",
       "      <th>14</th>\n",
       "      <td>53.5</td>\n",
       "    </tr>\n",
       "    <tr>\n",
       "      <th>15</th>\n",
       "      <td>54.9</td>\n",
       "    </tr>\n",
       "    <tr>\n",
       "      <th>16</th>\n",
       "      <td>58.8</td>\n",
       "    </tr>\n",
       "    <tr>\n",
       "      <th>17</th>\n",
       "      <td>41.8</td>\n",
       "    </tr>\n",
       "    <tr>\n",
       "      <th>18</th>\n",
       "      <td>58.6</td>\n",
       "    </tr>\n",
       "    <tr>\n",
       "      <th>19</th>\n",
       "      <td>48.7</td>\n",
       "    </tr>\n",
       "    <tr>\n",
       "      <th>20</th>\n",
       "      <td>55.0</td>\n",
       "    </tr>\n",
       "    <tr>\n",
       "      <th>21</th>\n",
       "      <td>50.2</td>\n",
       "    </tr>\n",
       "    <tr>\n",
       "      <th>22</th>\n",
       "      <td>57.0</td>\n",
       "    </tr>\n",
       "    <tr>\n",
       "      <th>23</th>\n",
       "      <td>51.2</td>\n",
       "    </tr>\n",
       "    <tr>\n",
       "      <th>24</th>\n",
       "      <td>39.5</td>\n",
       "    </tr>\n",
       "    <tr>\n",
       "      <th>25</th>\n",
       "      <td>58.2</td>\n",
       "    </tr>\n",
       "    <tr>\n",
       "      <th>26</th>\n",
       "      <td>46.8</td>\n",
       "    </tr>\n",
       "    <tr>\n",
       "      <th>27</th>\n",
       "      <td>38.0</td>\n",
       "    </tr>\n",
       "    <tr>\n",
       "      <th>28</th>\n",
       "      <td>56.6</td>\n",
       "    </tr>\n",
       "    <tr>\n",
       "      <th>29</th>\n",
       "      <td>41.0</td>\n",
       "    </tr>\n",
       "    <tr>\n",
       "      <th>30</th>\n",
       "      <td>54.8</td>\n",
       "    </tr>\n",
       "    <tr>\n",
       "      <th>31</th>\n",
       "      <td>55.6</td>\n",
       "    </tr>\n",
       "    <tr>\n",
       "      <th>32</th>\n",
       "      <td>58.4</td>\n",
       "    </tr>\n",
       "    <tr>\n",
       "      <th>33</th>\n",
       "      <td>45.0</td>\n",
       "    </tr>\n",
       "    <tr>\n",
       "      <th>34</th>\n",
       "      <td>42.8</td>\n",
       "    </tr>\n",
       "    <tr>\n",
       "      <th>35</th>\n",
       "      <td>54.8</td>\n",
       "    </tr>\n",
       "    <tr>\n",
       "      <th>36</th>\n",
       "      <td>45.7</td>\n",
       "    </tr>\n",
       "    <tr>\n",
       "      <th>37</th>\n",
       "      <td>44.3</td>\n",
       "    </tr>\n",
       "    <tr>\n",
       "      <th>38</th>\n",
       "      <td>38.4</td>\n",
       "    </tr>\n",
       "    <tr>\n",
       "      <th>39</th>\n",
       "      <td>54.0</td>\n",
       "    </tr>\n",
       "  </tbody>\n",
       "</table>\n",
       "</div>"
      ],
      "text/plain": [
       "       0\n",
       "0   48.6\n",
       "1   38.8\n",
       "2   52.6\n",
       "3   48.0\n",
       "4   60.2\n",
       "5   54.6\n",
       "6   42.7\n",
       "7   42.1\n",
       "8   49.8\n",
       "9   57.8\n",
       "10  57.9\n",
       "11  46.4\n",
       "12  52.5\n",
       "13  55.5\n",
       "14  53.5\n",
       "15  54.9\n",
       "16  58.8\n",
       "17  41.8\n",
       "18  58.6\n",
       "19  48.7\n",
       "20  55.0\n",
       "21  50.2\n",
       "22  57.0\n",
       "23  51.2\n",
       "24  39.5\n",
       "25  58.2\n",
       "26  46.8\n",
       "27  38.0\n",
       "28  56.6\n",
       "29  41.0\n",
       "30  54.8\n",
       "31  55.6\n",
       "32  58.4\n",
       "33  45.0\n",
       "34  42.8\n",
       "35  54.8\n",
       "36  45.7\n",
       "37  44.3\n",
       "38  38.4\n",
       "39  54.0"
      ]
     },
     "execution_count": 2,
     "metadata": {},
     "output_type": "execute_result"
    }
   ],
   "source": [
    "d"
   ]
  },
  {
   "cell_type": "code",
   "execution_count": 17,
   "metadata": {},
   "outputs": [],
   "source": [
    "\n",
    "s = d.sample(frac = 0.5)\n",
    "sample = s.mean()\n",
    "standard = d.std()\n",
    "n = d.count()\n",
    "population = d"
   ]
  },
  {
   "cell_type": "code",
   "execution_count": 20,
   "metadata": {},
   "outputs": [
    {
     "data": {
      "text/plain": [
       "0    47.89\n",
       "dtype: float64"
      ]
     },
     "execution_count": 20,
     "metadata": {},
     "output_type": "execute_result"
    }
   ],
   "source": [
    "sample"
   ]
  },
  {
   "cell_type": "code",
   "execution_count": 21,
   "metadata": {},
   "outputs": [
    {
     "data": {
      "text/plain": [
       "0    6.724372\n",
       "dtype: float64"
      ]
     },
     "execution_count": 21,
     "metadata": {},
     "output_type": "execute_result"
    }
   ],
   "source": [
    "standard"
   ]
  },
  {
   "cell_type": "code",
   "execution_count": 24,
   "metadata": {},
   "outputs": [
    {
     "data": {
      "text/plain": [
       "0    50.2775\n",
       "dtype: float64"
      ]
     },
     "execution_count": 24,
     "metadata": {},
     "output_type": "execute_result"
    }
   ],
   "source": [
    "population.mean()"
   ]
  },
  {
   "cell_type": "code",
   "execution_count": null,
   "metadata": {},
   "outputs": [],
   "source": []
  },
  {
   "cell_type": "code",
   "execution_count": 34,
   "metadata": {},
   "outputs": [
    {
     "data": {
      "text/plain": [
       "6.324555320336759"
      ]
     },
     "execution_count": 34,
     "metadata": {},
     "output_type": "execute_result"
    }
   ],
   "source": [
    "import math\n",
    "math.sqrt(40)"
   ]
  },
  {
   "cell_type": "code",
   "execution_count": 40,
   "metadata": {},
   "outputs": [],
   "source": [
    "import math \n",
    "def ztest(population,sample,standard,n):\n",
    "    z = (population - sample)/(Standard/n)\n",
    "    return(z)\n",
    "population = 50.27\n",
    "sample = 47.89\n",
    "Standard = 6.724\n",
    "n = 6.324"
   ]
  },
  {
   "cell_type": "code",
   "execution_count": 41,
   "metadata": {},
   "outputs": [
    {
     "data": {
      "text/plain": [
       "2.238417608566332"
      ]
     },
     "execution_count": 41,
     "metadata": {},
     "output_type": "execute_result"
    }
   ],
   "source": [
    "ztest(50.27,47.89,6.724,6.324)"
   ]
  },
  {
   "cell_type": "code",
   "execution_count": 19,
   "metadata": {},
   "outputs": [
    {
     "ename": "ValueError",
     "evalue": "Only integers accepted as `n` values",
     "output_type": "error",
     "traceback": [
      "\u001b[1;31m---------------------------------------------------------------------------\u001b[0m",
      "\u001b[1;31mValueError\u001b[0m                                Traceback (most recent call last)",
      "\u001b[1;32m<ipython-input-19-dc403bd03f19>\u001b[0m in \u001b[0;36m<module>\u001b[1;34m\u001b[0m\n\u001b[1;32m----> 1\u001b[1;33m \u001b[0md\u001b[0m\u001b[1;33m.\u001b[0m\u001b[0msample\u001b[0m\u001b[1;33m(\u001b[0m\u001b[1;36m0.5\u001b[0m\u001b[1;33m)\u001b[0m\u001b[1;33m\u001b[0m\u001b[1;33m\u001b[0m\u001b[0m\n\u001b[0m",
      "\u001b[1;32m~\\anaconda3\\lib\\site-packages\\pandas\\core\\generic.py\u001b[0m in \u001b[0;36msample\u001b[1;34m(self, n, frac, replace, weights, random_state, axis)\u001b[0m\n\u001b[0;32m   5047\u001b[0m             )\n\u001b[0;32m   5048\u001b[0m         \u001b[1;32melif\u001b[0m \u001b[0mn\u001b[0m \u001b[1;32mis\u001b[0m \u001b[1;32mnot\u001b[0m \u001b[1;32mNone\u001b[0m \u001b[1;32mand\u001b[0m \u001b[0mfrac\u001b[0m \u001b[1;32mis\u001b[0m \u001b[1;32mNone\u001b[0m \u001b[1;32mand\u001b[0m \u001b[0mn\u001b[0m \u001b[1;33m%\u001b[0m \u001b[1;36m1\u001b[0m \u001b[1;33m!=\u001b[0m \u001b[1;36m0\u001b[0m\u001b[1;33m:\u001b[0m\u001b[1;33m\u001b[0m\u001b[1;33m\u001b[0m\u001b[0m\n\u001b[1;32m-> 5049\u001b[1;33m             \u001b[1;32mraise\u001b[0m \u001b[0mValueError\u001b[0m\u001b[1;33m(\u001b[0m\u001b[1;34m\"Only integers accepted as `n` values\"\u001b[0m\u001b[1;33m)\u001b[0m\u001b[1;33m\u001b[0m\u001b[1;33m\u001b[0m\u001b[0m\n\u001b[0m\u001b[0;32m   5050\u001b[0m         \u001b[1;32melif\u001b[0m \u001b[0mn\u001b[0m \u001b[1;32mis\u001b[0m \u001b[1;32mNone\u001b[0m \u001b[1;32mand\u001b[0m \u001b[0mfrac\u001b[0m \u001b[1;32mis\u001b[0m \u001b[1;32mnot\u001b[0m \u001b[1;32mNone\u001b[0m\u001b[1;33m:\u001b[0m\u001b[1;33m\u001b[0m\u001b[1;33m\u001b[0m\u001b[0m\n\u001b[0;32m   5051\u001b[0m             \u001b[0mn\u001b[0m \u001b[1;33m=\u001b[0m \u001b[0mint\u001b[0m\u001b[1;33m(\u001b[0m\u001b[0mround\u001b[0m\u001b[1;33m(\u001b[0m\u001b[0mfrac\u001b[0m \u001b[1;33m*\u001b[0m \u001b[0maxis_length\u001b[0m\u001b[1;33m)\u001b[0m\u001b[1;33m)\u001b[0m\u001b[1;33m\u001b[0m\u001b[1;33m\u001b[0m\u001b[0m\n",
      "\u001b[1;31mValueError\u001b[0m: Only integers accepted as `n` values"
     ]
    }
   ],
   "source": [
    "d.sample(0.5)"
   ]
  },
  {
   "cell_type": "code",
   "execution_count": null,
   "metadata": {},
   "outputs": [],
   "source": []
  },
  {
   "cell_type": "code",
   "execution_count": null,
   "metadata": {},
   "outputs": [],
   "source": []
  },
  {
   "cell_type": "code",
   "execution_count": null,
   "metadata": {},
   "outputs": [],
   "source": []
  },
  {
   "cell_type": "code",
   "execution_count": null,
   "metadata": {},
   "outputs": [],
   "source": []
  },
  {
   "cell_type": "code",
   "execution_count": 45,
   "metadata": {},
   "outputs": [],
   "source": [
    "from statsmodels.stats import weightstats as stests"
   ]
  },
  {
   "cell_type": "code",
   "execution_count": 51,
   "metadata": {},
   "outputs": [
    {
     "data": {
      "text/plain": [
       "(-4.441710599680335, 8.924653965366676e-06)"
      ]
     },
     "execution_count": 51,
     "metadata": {},
     "output_type": "execute_result"
    }
   ],
   "source": [
    "stests.ztest(d[0], value = 55)"
   ]
  },
  {
   "cell_type": "code",
   "execution_count": 52,
   "metadata": {},
   "outputs": [],
   "source": [
    "from scipy import stats"
   ]
  },
  {
   "cell_type": "markdown",
   "metadata": {},
   "source": [
    "# distributions"
   ]
  },
  {
   "cell_type": "code",
   "execution_count": 4,
   "metadata": {},
   "outputs": [
    {
     "data": {
      "text/plain": [
       "0.1861069484575287"
      ]
     },
     "execution_count": 4,
     "metadata": {},
     "output_type": "execute_result"
    }
   ],
   "source": [
    "from scipy import stats\n",
    "stats.binom.pmf(5,30,0.15)"
   ]
  },
  {
   "cell_type": "code",
   "execution_count": 5,
   "metadata": {},
   "outputs": [
    {
     "data": {
      "text/plain": [
       "0.1861069484575287"
      ]
     },
     "execution_count": 5,
     "metadata": {},
     "output_type": "execute_result"
    }
   ],
   "source": [
    "from scipy import stats\n",
    "stats.binom.pmf(5,30,0.15)"
   ]
  },
  {
   "cell_type": "code",
   "execution_count": 6,
   "metadata": {},
   "outputs": [
    {
     "data": {
      "text/plain": [
       "0.010811718826652723"
      ]
     },
     "execution_count": 6,
     "metadata": {},
     "output_type": "execute_result"
    }
   ],
   "source": [
    "from scipy import stats\n",
    "stats.poisson.cdf(10,20)"
   ]
  },
  {
   "cell_type": "code",
   "execution_count": 9,
   "metadata": {},
   "outputs": [],
   "source": [
    "data = [1,2,4,4,3,2,4,35,6,6,6,6,3,7,3,7,35,6,3]\n",
    "sss = [3,5,3,2,4,5,6,7,6,5,4,2,4,6,7,8,6,5,4,3,2]"
   ]
  },
  {
   "cell_type": "code",
   "execution_count": 10,
   "metadata": {},
   "outputs": [],
   "source": [
    "from scipy import stats"
   ]
  },
  {
   "cell_type": "markdown",
   "metadata": {},
   "source": [
    "# t - test"
   ]
  },
  {
   "cell_type": "code",
   "execution_count": 11,
   "metadata": {},
   "outputs": [],
   "source": [
    "from scipy.stats import ttest_ind"
   ]
  },
  {
   "cell_type": "code",
   "execution_count": 12,
   "metadata": {},
   "outputs": [
    {
     "data": {
      "text/plain": [
       "Ttest_indResult(statistic=1.3320233593380408, pvalue=0.19078680184169725)"
      ]
     },
     "execution_count": 12,
     "metadata": {},
     "output_type": "execute_result"
    }
   ],
   "source": [
    "ttest_ind(data,sss)"
   ]
  },
  {
   "cell_type": "code",
   "execution_count": 13,
   "metadata": {},
   "outputs": [],
   "source": [
    "from scipy.stats import ttest_rel"
   ]
  },
  {
   "cell_type": "markdown",
   "metadata": {},
   "source": [
    "# z-test"
   ]
  },
  {
   "cell_type": "code",
   "execution_count": 15,
   "metadata": {},
   "outputs": [],
   "source": [
    "from statsmodels.stats import weightstats as stests"
   ]
  },
  {
   "cell_type": "code",
   "execution_count": 16,
   "metadata": {},
   "outputs": [],
   "source": [
    "from statsmodels.stats import weightstats as stests"
   ]
  },
  {
   "cell_type": "code",
   "execution_count": 17,
   "metadata": {},
   "outputs": [],
   "source": [
    "from statsmodels.stats import weightstats as stest"
   ]
  },
  {
   "cell_type": "code",
   "execution_count": null,
   "metadata": {},
   "outputs": [],
   "source": []
  }
 ],
 "metadata": {
  "kernelspec": {
   "display_name": "Python 3",
   "language": "python",
   "name": "python3"
  },
  "language_info": {
   "codemirror_mode": {
    "name": "ipython",
    "version": 3
   },
   "file_extension": ".py",
   "mimetype": "text/x-python",
   "name": "python",
   "nbconvert_exporter": "python",
   "pygments_lexer": "ipython3",
   "version": "3.8.3"
  }
 },
 "nbformat": 4,
 "nbformat_minor": 4
}

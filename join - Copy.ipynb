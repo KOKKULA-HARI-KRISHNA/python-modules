{
 "cells": [
  {
   "cell_type": "code",
   "execution_count": 3,
   "metadata": {},
   "outputs": [],
   "source": [
    "import pandas as pd"
   ]
  },
  {
   "cell_type": "code",
   "execution_count": 4,
   "metadata": {},
   "outputs": [],
   "source": [
    "left1 = pd.DataFrame({'ID':[101,102,103,104,105,106,107],'Cndidate_name':['Alex','Amy','Allen','Alice','James','Sara','Mia'],'subject':['History','English','Geography','German','History','German','English']})"
   ]
  },
  {
   "cell_type": "code",
   "execution_count": 5,
   "metadata": {},
   "outputs": [],
   "source": [
    "right1 = pd.DataFrame({'ID':[101,102,103,104,105,108],'city':['Delhi','Mumbai','Delhi','Chennai','Hyderabad','Delhi'],'subject_score':[89,78,77,87,87,84]})"
   ]
  },
  {
   "cell_type": "code",
   "execution_count": 6,
   "metadata": {},
   "outputs": [
    {
     "data": {
      "text/html": [
       "<div>\n",
       "<style scoped>\n",
       "    .dataframe tbody tr th:only-of-type {\n",
       "        vertical-align: middle;\n",
       "    }\n",
       "\n",
       "    .dataframe tbody tr th {\n",
       "        vertical-align: top;\n",
       "    }\n",
       "\n",
       "    .dataframe thead th {\n",
       "        text-align: right;\n",
       "    }\n",
       "</style>\n",
       "<table border=\"1\" class=\"dataframe\">\n",
       "  <thead>\n",
       "    <tr style=\"text-align: right;\">\n",
       "      <th></th>\n",
       "      <th>ID</th>\n",
       "      <th>city</th>\n",
       "      <th>subject_score</th>\n",
       "    </tr>\n",
       "  </thead>\n",
       "  <tbody>\n",
       "    <tr>\n",
       "      <th>0</th>\n",
       "      <td>101</td>\n",
       "      <td>Delhi</td>\n",
       "      <td>89</td>\n",
       "    </tr>\n",
       "    <tr>\n",
       "      <th>1</th>\n",
       "      <td>102</td>\n",
       "      <td>Mumbai</td>\n",
       "      <td>78</td>\n",
       "    </tr>\n",
       "    <tr>\n",
       "      <th>2</th>\n",
       "      <td>103</td>\n",
       "      <td>Delhi</td>\n",
       "      <td>77</td>\n",
       "    </tr>\n",
       "    <tr>\n",
       "      <th>3</th>\n",
       "      <td>104</td>\n",
       "      <td>Chennai</td>\n",
       "      <td>87</td>\n",
       "    </tr>\n",
       "    <tr>\n",
       "      <th>4</th>\n",
       "      <td>105</td>\n",
       "      <td>Hyderabad</td>\n",
       "      <td>87</td>\n",
       "    </tr>\n",
       "    <tr>\n",
       "      <th>5</th>\n",
       "      <td>108</td>\n",
       "      <td>Delhi</td>\n",
       "      <td>84</td>\n",
       "    </tr>\n",
       "  </tbody>\n",
       "</table>\n",
       "</div>"
      ],
      "text/plain": [
       "    ID       city  subject_score\n",
       "0  101      Delhi             89\n",
       "1  102     Mumbai             78\n",
       "2  103      Delhi             77\n",
       "3  104    Chennai             87\n",
       "4  105  Hyderabad             87\n",
       "5  108      Delhi             84"
      ]
     },
     "execution_count": 6,
     "metadata": {},
     "output_type": "execute_result"
    }
   ],
   "source": [
    "right1"
   ]
  },
  {
   "cell_type": "code",
   "execution_count": 7,
   "metadata": {},
   "outputs": [
    {
     "data": {
      "text/html": [
       "<div>\n",
       "<style scoped>\n",
       "    .dataframe tbody tr th:only-of-type {\n",
       "        vertical-align: middle;\n",
       "    }\n",
       "\n",
       "    .dataframe tbody tr th {\n",
       "        vertical-align: top;\n",
       "    }\n",
       "\n",
       "    .dataframe thead th {\n",
       "        text-align: right;\n",
       "    }\n",
       "</style>\n",
       "<table border=\"1\" class=\"dataframe\">\n",
       "  <thead>\n",
       "    <tr style=\"text-align: right;\">\n",
       "      <th></th>\n",
       "      <th>ID</th>\n",
       "      <th>Cndidate_name</th>\n",
       "      <th>subject</th>\n",
       "    </tr>\n",
       "  </thead>\n",
       "  <tbody>\n",
       "    <tr>\n",
       "      <th>0</th>\n",
       "      <td>101</td>\n",
       "      <td>Alex</td>\n",
       "      <td>History</td>\n",
       "    </tr>\n",
       "    <tr>\n",
       "      <th>1</th>\n",
       "      <td>102</td>\n",
       "      <td>Amy</td>\n",
       "      <td>English</td>\n",
       "    </tr>\n",
       "    <tr>\n",
       "      <th>2</th>\n",
       "      <td>103</td>\n",
       "      <td>Allen</td>\n",
       "      <td>Geography</td>\n",
       "    </tr>\n",
       "    <tr>\n",
       "      <th>3</th>\n",
       "      <td>104</td>\n",
       "      <td>Alice</td>\n",
       "      <td>German</td>\n",
       "    </tr>\n",
       "    <tr>\n",
       "      <th>4</th>\n",
       "      <td>105</td>\n",
       "      <td>James</td>\n",
       "      <td>History</td>\n",
       "    </tr>\n",
       "    <tr>\n",
       "      <th>5</th>\n",
       "      <td>106</td>\n",
       "      <td>Sara</td>\n",
       "      <td>German</td>\n",
       "    </tr>\n",
       "    <tr>\n",
       "      <th>6</th>\n",
       "      <td>107</td>\n",
       "      <td>Mia</td>\n",
       "      <td>English</td>\n",
       "    </tr>\n",
       "  </tbody>\n",
       "</table>\n",
       "</div>"
      ],
      "text/plain": [
       "    ID Cndidate_name    subject\n",
       "0  101          Alex    History\n",
       "1  102           Amy    English\n",
       "2  103         Allen  Geography\n",
       "3  104         Alice     German\n",
       "4  105         James    History\n",
       "5  106          Sara     German\n",
       "6  107           Mia    English"
      ]
     },
     "execution_count": 7,
     "metadata": {},
     "output_type": "execute_result"
    }
   ],
   "source": [
    "left1"
   ]
  },
  {
   "cell_type": "code",
   "execution_count": 10,
   "metadata": {},
   "outputs": [
    {
     "data": {
      "text/html": [
       "<div>\n",
       "<style scoped>\n",
       "    .dataframe tbody tr th:only-of-type {\n",
       "        vertical-align: middle;\n",
       "    }\n",
       "\n",
       "    .dataframe tbody tr th {\n",
       "        vertical-align: top;\n",
       "    }\n",
       "\n",
       "    .dataframe thead th {\n",
       "        text-align: right;\n",
       "    }\n",
       "</style>\n",
       "<table border=\"1\" class=\"dataframe\">\n",
       "  <thead>\n",
       "    <tr style=\"text-align: right;\">\n",
       "      <th></th>\n",
       "      <th>ID</th>\n",
       "      <th>Cndidate_name</th>\n",
       "      <th>subject</th>\n",
       "      <th>city</th>\n",
       "      <th>subject_score</th>\n",
       "    </tr>\n",
       "  </thead>\n",
       "  <tbody>\n",
       "    <tr>\n",
       "      <th>0</th>\n",
       "      <td>101</td>\n",
       "      <td>Alex</td>\n",
       "      <td>History</td>\n",
       "      <td>Delhi</td>\n",
       "      <td>89</td>\n",
       "    </tr>\n",
       "    <tr>\n",
       "      <th>1</th>\n",
       "      <td>102</td>\n",
       "      <td>Amy</td>\n",
       "      <td>English</td>\n",
       "      <td>Mumbai</td>\n",
       "      <td>78</td>\n",
       "    </tr>\n",
       "    <tr>\n",
       "      <th>2</th>\n",
       "      <td>103</td>\n",
       "      <td>Allen</td>\n",
       "      <td>Geography</td>\n",
       "      <td>Delhi</td>\n",
       "      <td>77</td>\n",
       "    </tr>\n",
       "    <tr>\n",
       "      <th>3</th>\n",
       "      <td>104</td>\n",
       "      <td>Alice</td>\n",
       "      <td>German</td>\n",
       "      <td>Chennai</td>\n",
       "      <td>87</td>\n",
       "    </tr>\n",
       "    <tr>\n",
       "      <th>4</th>\n",
       "      <td>105</td>\n",
       "      <td>James</td>\n",
       "      <td>History</td>\n",
       "      <td>Hyderabad</td>\n",
       "      <td>87</td>\n",
       "    </tr>\n",
       "    <tr>\n",
       "      <th>5</th>\n",
       "      <td>108</td>\n",
       "      <td>NaN</td>\n",
       "      <td>NaN</td>\n",
       "      <td>Delhi</td>\n",
       "      <td>84</td>\n",
       "    </tr>\n",
       "  </tbody>\n",
       "</table>\n",
       "</div>"
      ],
      "text/plain": [
       "    ID Cndidate_name    subject       city  subject_score\n",
       "0  101          Alex    History      Delhi             89\n",
       "1  102           Amy    English     Mumbai             78\n",
       "2  103         Allen  Geography      Delhi             77\n",
       "3  104         Alice     German    Chennai             87\n",
       "4  105         James    History  Hyderabad             87\n",
       "5  108           NaN        NaN      Delhi             84"
      ]
     },
     "execution_count": 10,
     "metadata": {},
     "output_type": "execute_result"
    }
   ],
   "source": [
    "import pandas as pd\n",
    "pd.merge(left1,right1, how = 'right', on = ['ID'])"
   ]
  },
  {
   "cell_type": "code",
   "execution_count": 41,
   "metadata": {},
   "outputs": [
    {
     "data": {
      "image/png": "[encoded data removed]",
      "text/plain": [
       "<Figure size 432x288 with 1 Axes>"
      ]
     },
     "metadata": {},
     "output_type": "display_data"
    }
   ],
   "source": [
    "import matplotlib.pyplot as plt\n",
    "a = pd.DataFrame({'city':['Delhi','Mumbai','Delhi','Chennai','Hyderabad','Delhi'],'sales':[890,784,775,873,387,684]})\n",
    "plt.pie(a['sales'], labels = a['city'],startangle = 90,  autopct = '%1.1f%%')\n",
    "plt.show()"
   ]
  },
  {
   "cell_type": "code",
   "execution_count": 27,
   "metadata": {},
   "outputs": [],
   "source": [
    "import matplotlib.pyplot as plt"
   ]
  },
  {
   "cell_type": "code",
   "execution_count": 37,
   "metadata": {},
   "outputs": [
    {
     "data": {
      "text/plain": [
       "([<matplotlib.patches.Wedge at 0x1a746d9ee20>,\n",
       "  <matplotlib.patches.Wedge at 0x1a746dac340>,\n",
       "  <matplotlib.patches.Wedge at 0x1a746dac9d0>,\n",
       "  <matplotlib.patches.Wedge at 0x1a746db80a0>,\n",
       "  <matplotlib.patches.Wedge at 0x1a746db8730>,\n",
       "  <matplotlib.patches.Wedge at 0x1a746db8dc0>],\n",
       " [Text(-0.6537973254596285, 0.8846180289943433, 'Delhi'),\n",
       "  Text(-1.0622294275836197, -0.2857772614736443, 'Mumbai'),\n",
       "  Text(-0.2110781025662659, -1.0795582590194126, 'Delhi'),\n",
       "  Text(0.9168773896154802, -0.6077300818717987, 'Chennai'),\n",
       "  Text(1.0456261003067548, 0.3415641350570758, 'Hyderabad'),\n",
       "  Text(0.5168663507838386, 0.9710042097887105, 'Delhi')],\n",
       " [Text(-0.35661672297797914, 0.48251892490600534, '20.3%'),\n",
       "  Text(-0.5793978695910652, -0.1558785062583514, '17.8%'),\n",
       "  Text(-0.11513351049069048, -0.5888499594651341, '17.6%'),\n",
       "  Text(0.5001149397902618, -0.3314891355664356, '19.9%'),\n",
       "  Text(0.5703415092582299, 0.18630771003113222, '8.8%'),\n",
       "  Text(0.2819271004275483, 0.5296386598847511, '15.6%')])"
      ]
     },
     "execution_count": 37,
     "metadata": {},
     "output_type": "execute_result"
    },
    {
     "data": {
      "image/png": "[encoded data removed]",
      "text/plain": [
       "<Figure size 432x288 with 1 Axes>"
      ]
     },
     "metadata": {},
     "output_type": "display_data"
    }
   ],
   "source": [
    "plt.pie(a['sales'], labels = a['city'],startangle = 90,  autopct = '%2.1f%%')"
   ]
  },
  {
   "cell_type": "code",
   "execution_count": 39,
   "metadata": {},
   "outputs": [
    {
     "data": {
      "text/plain": [
       "([<matplotlib.patches.Wedge at 0x1a746e4dd30>,\n",
       "  <matplotlib.patches.Wedge at 0x1a746e5a1f0>,\n",
       "  <matplotlib.patches.Wedge at 0x1a746e5a8e0>,\n",
       "  <matplotlib.patches.Wedge at 0x1a746e5af70>,\n",
       "  <matplotlib.patches.Wedge at 0x1a746e65640>,\n",
       "  <matplotlib.patches.Wedge at 0x1a746e65cd0>],\n",
       " [Text(-0.6537973254596285, 0.8846180289943433, 'Delhi'),\n",
       "  Text(-1.0622294275836197, -0.2857772614736443, 'Mumbai'),\n",
       "  Text(-0.2110781025662659, -1.0795582590194126, 'Delhi'),\n",
       "  Text(0.9168773896154802, -0.6077300818717987, 'Chennai'),\n",
       "  Text(1.0456261003067548, 0.3415641350570758, 'Hyderabad'),\n",
       "  Text(0.5168663507838386, 0.9710042097887105, 'Delhi')],\n",
       " [Text(-0.35661672297797914, 0.48251892490600534, '20.3%'),\n",
       "  Text(-0.5793978695910652, -0.1558785062583514, '17.8%'),\n",
       "  Text(-0.11513351049069048, -0.5888499594651341, '17.6%'),\n",
       "  Text(0.5001149397902618, -0.3314891355664356, '19.9%'),\n",
       "  Text(0.5703415092582299, 0.18630771003113222, '8.8%'),\n",
       "  Text(0.2819271004275483, 0.5296386598847511, '15.6%')])"
      ]
     },
     "execution_count": 39,
     "metadata": {},
     "output_type": "execute_result"
    },
    {
     "data": {
      "image/png": "[encoded data removed]",
      "text/plain": [
       "<Figure size 432x288 with 1 Axes>"
      ]
     },
     "metadata": {},
     "output_type": "display_data"
    }
   ],
   "source": [
    "plt.pie(a['sales'], labels = a['city'],startangle = 90,  autopct = '%1.1f%%')data:image/png;base64,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"
   ]
  },
  {
   "cell_type": "code",
   "execution_count": 48,
   "metadata": {},
   "outputs": [
    {
     "data": {
      "text/plain": [
       "<itertools.accumulate at 0x1a747f0a200>"
      ]
     },
     "execution_count": 48,
     "metadata": {},
     "output_type": "execute_result"
    }
   ],
   "source": [
    "from itertools import accumulate\n",
    "l = [5,2,1,4,6]\n",
    "accumulate(l, lambda l : l.mean)"
   ]
  },
  {
   "cell_type": "code",
   "execution_count": null,
   "metadata": {},
   "outputs": [],
   "source": []
  }
 ],
 "metadata": {
  "kernelspec": {
   "display_name": "Python 3",
   "language": "python",
   "name": "python3"
  },
  "language_info": {
   "codemirror_mode": {
    "name": "ipython",
    "version": 3
   },
   "file_extension": ".py",
   "mimetype": "text/x-python",
   "name": "python",
   "nbconvert_exporter": "python",
   "pygments_lexer": "ipython3",
   "version": "3.8.3"
  }
 },
 "nbformat": 4,
 "nbformat_minor": 4
}

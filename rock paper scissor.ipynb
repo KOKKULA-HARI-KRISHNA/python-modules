{
 "cells": [
  {
   "cell_type": "code",
   "execution_count": 1,
   "metadata": {},
   "outputs": [
    {
     "name": "stdout",
     "output_type": "stream",
     "text": [
      "welcome to game\n",
      "rock\n",
      "paper\n",
      "you loose\n",
      "no of counts 1\n",
      "do you want to play again press y or n\n",
      "y\n",
      "welcome to game\n",
      "rock\n",
      "rock\n",
      "you loose\n",
      "no of counts 2\n",
      "do you want to play again press y or n\n",
      "y\n",
      "welcome to game\n",
      "rock\n",
      "paper\n",
      "you loose\n",
      "no of counts 3\n",
      "do you want to play again press y or n\n",
      "y\n",
      "welcome to game\n",
      "paper\n",
      "rock\n",
      "paper wins\n",
      "no of counts 4\n",
      "do you want to play again press y or n\n",
      "n\n",
      "thank you\n"
     ]
    }
   ],
   "source": [
    "import random\n",
    "\n",
    "i = 1\n",
    "while(i>0):\n",
    "    print('welcome to game')\n",
    "    n = input()\n",
    "    a = random.choice(['rock','paper','scissor'])\n",
    "    print(a)\n",
    "    if a == 'rock':\n",
    "        if n == 'paper':\n",
    "            print('paper wins')\n",
    "            print('no of counts',i)\n",
    "            i = i +1\n",
    "        else:\n",
    "            print('you loose')\n",
    "            print('no of counts',i)\n",
    "           \n",
    "    elif a == 'paper':\n",
    "        if n == 'scissor':\n",
    "            print('scissor wins')\n",
    "            print('no of counts',i)\n",
    "            i = i+1\n",
    "        else:\n",
    "            print('you loose')\n",
    "            print('no of counts',i)\n",
    "            \n",
    "    elif a == 'scissor':\n",
    "        if n == 'rock':\n",
    "            print('rock wins')\n",
    "            print('no of counts',i)\n",
    "            i = i+1\n",
    "        else:\n",
    "            print('you loose')\n",
    "            print('no of counts',i)\n",
    "            \n",
    "    else:\n",
    "        print('error')\n",
    "    print('do you want to play again press y or n')\n",
    "    n = input()\n",
    "    if n == 'y':\n",
    "        i = i + 1\n",
    "        continue\n",
    "    else:\n",
    "        print('thank you')\n",
    "        break\n",
    "    "
   ]
  },
  {
   "cell_type": "code",
   "execution_count": null,
   "metadata": {},
   "outputs": [],
   "source": [
    "\n",
    "        \n",
    "    "
   ]
  },
  {
   "cell_type": "code",
   "execution_count": null,
   "metadata": {},
   "outputs": [],
   "source": []
  }
 ],
 "metadata": {
  "kernelspec": {
   "display_name": "Python 3",
   "language": "python",
   "name": "python3"
  },
  "language_info": {
   "codemirror_mode": {
    "name": "ipython",
    "version": 3
   },
   "file_extension": ".py",
   "mimetype": "text/x-python",
   "name": "python",
   "nbconvert_exporter": "python",
   "pygments_lexer": "ipython3",
   "version": "3.8.3"
  }
 },
 "nbformat": 4,
 "nbformat_minor": 4
}
